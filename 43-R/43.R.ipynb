{
 "cells": [
  {
   "attachments": {},
   "cell_type": "markdown",
   "metadata": {},
   "source": [
    "R è un linguaggio di scripting interpretato\n",
    "\n",
    "R fornisce un'ampia varietà di tecniche statistiche\n",
    "\n",
    "Tra gli oggetti troviamo\n",
    "\n",
    "    *vettori\n",
    "    \n",
    "    *tabelle\n",
    "    \n",
    "    *grafici\n",
    "    \n",
    "    *modelli\n",
    "    \n",
    "R ha bisogno di CRAN per funzionare\n",
    "\n",
    "R Studio ha 4 quadranti\n",
    "\n",
    "Area di script (alto-sx) -> si scrivono gli script R\n",
    "\n",
    "Console (basso-sinistra) -> risultato e console per comandi rapidi\n",
    "\n",
    "Workspace (alto-destra) -> mostra gli oggetti creati e in uso e dataset\n",
    "\n",
    "Azioni (basso-destra) -> caricare datasetm visualizzare grafici, scaricare pacchetti\n",
    "\n",
    "R è case sensitive\n",
    "\n",
    "Le funzioni sono contenute dentro un package\n",
    "\n",
    "per installare una packages\n",
    "\n",
    ">install.packages('NOME PACKAGE')\n",
    "\n",
    ">library(\"NOME PACCHETTO\")\n",
    "\n",
    "per creare un oggetto si usana l'assegnazione\n",
    "\n",
    "x<-50 oppure x=50\n",
    "\n",
    "Vettori -> numerici o categorici(stringhe)\n",
    " c(valore1,valore2)"
   ]
  }
 ],
 "metadata": {
  "kernelspec": {
   "display_name": "base",
   "language": "python",
   "name": "python3"
  },
  "language_info": {
   "codemirror_mode": {
    "name": "ipython",
    "version": 3
   },
   "file_extension": ".py",
   "mimetype": "text/x-python",
   "name": "python",
   "nbconvert_exporter": "python",
   "pygments_lexer": "ipython3",
   "version": "3.10.9"
  },
  "orig_nbformat": 4
 },
 "nbformat": 4,
 "nbformat_minor": 2
}
