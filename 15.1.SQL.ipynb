{
 "cells": [
  {
   "cell_type": "code",
   "execution_count": null,
   "metadata": {
    "vscode": {
     "languageId": "sql"
    }
   },
   "outputs": [],
   "source": [
    "https://www.w3schools.com/sql/trysql.asp?filename=trysql_select_all\n",
    "\n",
    "SELECT CustomerID AS ID, CustomerName AS Cliente \n",
    "FROM Customers AS Cliente \n",
    "WHERE Country=\"Italy\" OR Country=\"France\"\n",
    "ORDER BY Country DESC;\n",
    "\n",
    "Seleziona tutti i CustomerID rinominati come ID e CustomerName come Cliente\n",
    "Dalla tabella Customers rinominato come Cliente\n",
    "Dove il paese è Italy OPPURE è France il cui ID è compreso tra 47 E 60\n",
    "Ordinati per Country in Decrescente\n",
    "\n",
    "SELECT DISTINCT City AS Città\n",
    "FROM Customers \n",
    "\n",
    "Seleziona in modo distinto (senza ripetizioni) tutte le City rinominate in Città\n",
    "\n",
    "WHERE CustomerID>47 AND CustomerID<60\n",
    "Semplificato in\n",
    "WHERE CustomerID BETWEEN 47 AND 60\n",
    "\n",
    "Dove CustomerID è compreso tra 47 e 60\n",
    "\n",
    "WHERE Customer NOT BETWEEN 'Com' AND 'East'\n",
    "Dove CustomerName NON è COMPRESO tra le stringhe 'Com' E 'East' \n",
    "Funziona con le date\n",
    "SELECT * FROM Orders\n",
    "WHERE OrderDate  BETWEEN '1996-07-01' AND '1996-07-31'\n",
    "Oppure -> si usa # e / (non va)\n",
    "WHERE OrderDate BETWEEN #07/01/1996# AND #07/31/1996#;\n",
    "\n",
    "WHERE CustomerName LIKE '%a'\n",
    "\n",
    "Dove CustomerName termina per 'a' -> carattere jolly\n",
    "\n",
    "WHERE CustomerName LIKE 'a____%'\n",
    "\n",
    "Dove CustomerName inizia per 'a' ed è seguito da almeno 4 caratteri (underscore\n",
    "\n",
    "WHERE CustomerName LIKE '[bsp]%'\n",
    "Dove CustomerName inizia per b o s o p\n",
    "\n",
    "WHERE CustomerName LIKE '[!bsp]%'\n",
    "Dove CustomerName NON inizia per b o s o p\n",
    "\n",
    "WHERE CustomerName LIKE '[a-c]%'\n",
    "Dove CustomerName inizia da a ad c\n",
    "\n",
    "WHERE Country='Italy' AND City <> 'Bergamo';\n",
    "Dove Country è Italy E la City DIVERSA da 'Bergamo\"\n",
    "\n",
    "WHERE CustomerID IN (5,9,24,56,78)\n",
    "Selezione CustomerID uguale a 5 9 24 56 78\n",
    "\n",
    "WHERE PostalCode IS NULL\n",
    "I PostalCode ha valori nulli -> campo opzionale"
   ]
  }
 ],
 "metadata": {
  "language_info": {
   "name": "python"
  },
  "orig_nbformat": 4
 },
 "nbformat": 4,
 "nbformat_minor": 2
}
