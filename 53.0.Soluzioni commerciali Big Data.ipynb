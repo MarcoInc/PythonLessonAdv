{
 "cells": [
  {
   "attachments": {},
   "cell_type": "markdown",
   "metadata": {},
   "source": [
    "GOOGLE -> BigQuery\n",
    "\n",
    "    Usa il linguaggio SQL\n",
    "\n",
    "SAP -> SAP HANA\n",
    "\n",
    "Velocità di elaborazione elevata\n",
    "\n",
    "    Può essere integrato ad Hadoop e SAP IQ\n",
    "\n",
    "    DB di elaborazione parallelo orientato alle colonne basato su griglia\n",
    "\n",
    "    Rivelazioni frodi, intellicenge client, analisi del testo..\n",
    "\n",
    "IBM -> ne usa vari:\n",
    "\n",
    "    *Infophere:\n",
    "\n",
    "        -Infophere Stream -> usa Hadoop stream computing in tempo reale\n",
    "\n",
    "        -Infophere Big Insights -> elaborazione dati strutturati e non strutturati\n",
    "\n",
    "        -Infophere Watson Explorer -> ricerca, navigazione e scoperta origini dati\n",
    "\n",
    "        -Infophere Smart Analytics System  -> analisi dei dati\n",
    "\n",
    "Microsoft -> Azure:\n",
    "\n",
    "    La struttura di Azure è un cloud storage durevole\n",
    "\n",
    "    *HDInsight -> basato hadoop\n",
    "\n",
    "    *Database SQL di Azure\n",
    "\n",
    "    *Azure ML -> Componente per Machine Learning\n",
    "\n",
    "HP -> HAVEn\n",
    "\n",
    "    *Supporta Hadoop/HDFS\n",
    "\n",
    "Amazon -> Amazon Web Services (AWS)\n",
    "\n",
    "    *Offre oltre 200 servizi completi tra cui data center  "
   ]
  }
 ],
 "metadata": {
  "language_info": {
   "name": "python"
  },
  "orig_nbformat": 4
 },
 "nbformat": 4,
 "nbformat_minor": 2
}
