{
 "cells": [
  {
   "attachments": {},
   "cell_type": "markdown",
   "metadata": {},
   "source": [
    "GRAFI PERSONALIZZATI e OPZIONI AGGIUNTIVE"
   ]
  },
  {
   "cell_type": "code",
   "execution_count": 1,
   "metadata": {},
   "outputs": [],
   "source": [
    "%matplotlib inline\n",
    "import networkx as nx\n",
    "import matplotlib.pyplot as plt\n",
    "\n",
    "#Gephi permette di visionare i grafi in maniera ottimale rispetto ai\n",
    "# metodi già visti\n",
    "\n",
    "#Creo un grafo orientato\n",
    "grafo=nx.DiGraph([(0,3),(1,3),(2,4),(3,5),(3,6),(4,6),(5,6)])\n",
    "\n",
    "#Creo il file per Gephi -> modalità scrittura (w) e binaria (b)\n",
    "with open(\"37.2.grafo.graphml\",\"wb\") as graph:\n",
    "    nx.write_graphml(grafo,graph) #file creato\n"
   ]
  }
 ],
 "metadata": {
  "kernelspec": {
   "display_name": "base",
   "language": "python",
   "name": "python3"
  },
  "language_info": {
   "codemirror_mode": {
    "name": "ipython",
    "version": 3
   },
   "file_extension": ".py",
   "mimetype": "text/x-python",
   "name": "python",
   "nbconvert_exporter": "python",
   "pygments_lexer": "ipython3",
   "version": "3.10.9"
  },
  "orig_nbformat": 4
 },
 "nbformat": 4,
 "nbformat_minor": 2
}
