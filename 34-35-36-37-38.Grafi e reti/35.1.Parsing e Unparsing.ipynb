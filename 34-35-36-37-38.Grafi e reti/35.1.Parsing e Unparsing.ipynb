{
 "cells": [
  {
   "attachments": {},
   "cell_type": "markdown",
   "metadata": {},
   "source": [
    "REQUEST"
   ]
  },
  {
   "cell_type": "code",
   "execution_count": 5,
   "metadata": {},
   "outputs": [
    {
     "name": "stdout",
     "output_type": "stream",
     "text": [
      "b'<!doctype html><html itemscope=\"\" itemtype=\"http://schema.org/WebPage\" lang=\"it\"><head><meta content=\"text/html; charset=UTF-8\" http-equiv=\"Content-Type\"><meta content=\"/images/branding/googleg/1x/googleg_standard_color_128dp.png\" itemprop=\"image\"><title>Google</title><script nonce=\"axhOAvTbRsG6g0qV64ef9Q\">(function(){var _g={kEI:\\'zz2hZP2sCcydptQPqMiq0AE\\',kEXPI:\\'0,18168,775176,566065,6058,207,4804,2316,383,246,5,1129120,1197734,890,379867,16114,28684,22430,1362,283,12035,4746,12835,4998,17075,38444,2872,2891,3926,214,4208,3406,606,60689,6399,9937,20583,4,1528,2302,38935,3192,13660,4437,22604,6633,7596,1,11943,27104,2,3105,2,39761,5679,1021,31121,4569,6258,23418,1252,5835,19300,7484,7410,3996,13670,2006,8155,7381,1401,14569,872,19634,7,1922,9779,22893,19566,20199,5796,6,14430,19409,797,6819,1558,4235,4,1,1,8887,5832,1668,2213,1522,3030,6110,11510,10472,2885,1003,8477,3571,6689,10958,1330,1697,477,1157,3242,4707,1760,4149,1129,8276,354,3083,7914,10662,2077,3,3,9,4129,1271,2041,372,1776,5202601,6751,8798371,3311,141,795,19735,1,1,6964,5,260,55,7,12,23943528,578,2861448,1182080,16673,2893,6250,19889,3918,1756,1196,1404037,681642,23078622,2862,1568,897,2106,1974,1,1375,1022,836,1546,1775,2801,578,8,1254,1529,97,863,516,1079,32,557,213,1302,776,650,556,543,629,78,1,203,372,300,447,81,591,748,401,1489,256,738,317,1,434,203,273,723,355,1077,794,554,132,1,1,792,962,416,13,167,45,408,183,597,410,387,151,39,130,354,3,3,2759,98,688,129,386,5,117,3,79,95,447,142,318,84,168,132,199,645,98,485,169,7,212,196,539,470,247,163,155,29,230,120,6,3,196,7,2,267,70,852,1225,509,7,101,73,1403,83,338,387,681,286\\',kBL:\\'pp_6\\',kOPI:89978449};(function(){var a;(null==(a=window.google)?0:a.stvsc)?google.kEI=_g.kEI:window.google=_g;}).call(this);})();(function(){google.sn=\\'webhp\\';google.kHL=\\'it\\';})();(function(){\\n'\n",
      "b'var h=this||self;function l(){return void 0!==window.google&&void 0!==window.google.kOPI&&0!==window.google.kOPI?window.google.kOPI:null};var m,n=[];function p(a){for(var b;a&&(!a.getAttribute||!(b=a.getAttribute(\"eid\")));)a=a.parentNode;return b||m}function q(a){for(var b=null;a&&(!a.getAttribute||!(b=a.getAttribute(\"leid\")));)a=a.parentNode;return b}function r(a){/^http:/i.test(a)&&\"https:\"===window.location.protocol&&(google.ml&&google.ml(Error(\"a\"),!1,{src:a,glmm:1}),a=\"\");return a}\\n'\n",
      "b'function t(a,b,c,d,k){var e=\"\";-1===b.search(\"&ei=\")&&(e=\"&ei=\"+p(d),-1===b.search(\"&lei=\")&&(d=q(d))&&(e+=\"&lei=\"+d));d=\"\";var g=-1===b.search(\"&cshid=\")&&\"slh\"!==a,f=[];f.push([\"zx\",Date.now().toString()]);h._cshid&&g&&f.push([\"cshid\",h._cshid]);c=c();null!=c&&f.push([\"opi\",c.toString()]);for(c=0;c<f.length;c++){if(0===c||0<c)d+=\"&\";d+=f[c][0]+\"=\"+f[c][1]}return\"/\"+(k||\"gen_204\")+\"?atyp=i&ct=\"+String(a)+\"&cad=\"+(b+e+d)};m=google.kEI;google.getEI=p;google.getLEI=q;google.ml=function(){return null};google.log=function(a,b,c,d,k,e){e=void 0===e?l:e;c||(c=t(a,b,e,d,k));if(c=r(c)){a=new Image;var g=n.length;n[g]=a;a.onerror=a.onload=a.onabort=function(){delete n[g]};a.src=c}};google.logUrl=function(a,b){b=void 0===b?l:b;return t(\"\",a,b)};}).call(this);(function(){google.y={};google.sy=[];google.x=function(a,b){if(a)var c=a.id;else{do c=Math.random();while(google.y[c])}google.y[c]=[a,b];return!1};google.sx=function(a){google.sy.push(a)};google.lm=[];google.plm=function(a){google.lm.push.apply(google.lm,a)};google.lq=[];google.load=function(a,b,c){google.lq.push([[a],b,c])};google.loadAll=function(a,b){google.lq.push([a,b])};google.bx=!1;google.lx=function(){};}).call(this);google.f={};(function(){\\n'\n",
      "b'document.documentElement.addEventListener(\"submit\",function(b){var a;if(a=b.target){var c=a.getAttribute(\"data-submitfalse\");a=\"1\"===c||\"q\"===c&&!a.elements.q.value?!0:!1}else a=!1;a&&(b.preventDefault(),b.stopPropagation())},!0);document.documentElement.addEventListener(\"click\",function(b){var a;a:{for(a=b.target;a&&a!==document.documentElement;a=a.parentElement)if(\"A\"===a.tagName){a=\"1\"===a.getAttribute(\"data-nohref\");break a}a=!1}a&&b.preventDefault()},!0);}).call(this);</script><style>#gbar,#guser{font-size:13px;padding-top:1px !important;}#gbar{height:22px}#guser{padding-bottom:7px !important;text-align:right}.gbh,.gbd{border-top:1px solid #c9d7f1;font-size:1px}.gbh{height:0;position:absolute;top:24px;width:100%}@media all{.gb1{height:22px;margin-right:.5em;vertical-align:top}#gbar{float:left}}a.gb1,a.gb4{text-decoration:underline !important}a.gb1,a.gb4{color:#00c !important}.gbi .gb4{color:#dd8e27 !important}.gbf .gb4{color:#900 !important}\\n'\n",
      "b'</style><style>body,td,a,p,.h{font-family:arial,sans-serif}body{margin:0;overflow-y:scroll}#gog{padding:3px 8px 0}td{line-height:.8em}.gac_m td{line-height:17px}form{margin-bottom:20px}.h{color:#1967d2}em{font-weight:bold;font-style:normal}.lst{height:25px;width:496px}.gsfi,.lst{font:18px arial,sans-serif}.gsfs{font:17px arial,sans-serif}.ds{display:inline-box;display:inline-block;margin:3px 0 4px;margin-left:4px}input{font-family:inherit}body{background:#fff;color:#000}a{color:#681da8;text-decoration:none}a:hover,a:active{text-decoration:underline}.fl a{color:#1967d2}a:visited{color:#681da8}.sblc{padding-top:5px}.sblc a{display:block;margin:2px 0;margin-left:13px;font-size:11px}.lsbb{background:#f8f9fa;border:solid 1px;border-color:#dadce0 #70757a #70757a #dadce0;height:30px}.lsbb{display:block}#WqQANb a{display:inline-block;margin:0 12px}.lsb{background:url(/images/nav_logo229.png) 0 -261px repeat-x;color:#000;border:none;cursor:pointer;height:30px;margin:0;outline:0;font:15px arial,sans-serif;vertical-align:top}.lsb:active{background:#dadce0}.lst:focus{outline:none}</style><script nonce=\"axhOAvTbRsG6g0qV64ef9Q\">(function(){window.google.erd={jsr:1,bv:1822,de:true};\\n'\n",
      "b'var l=this||self;var m,n=null!=(m=l.mei)?m:1,p,q=null!=(p=l.sdo)?p:!0,r=0,t,u=google.erd,v=u.jsr;google.ml=function(a,b,d,e,f){f=void 0===f?2:f;b&&(t=a&&a.message);if(google.dl)return google.dl(a,f,d),null;if(0>v){window.console&&console.error(a,d);if(-2===v)throw a;b=!1}else b=!a||!a.message||\"Error loading script\"===a.message||r>=n&&!e?!1:!0;if(!b)return null;r++;d=d||{};b=encodeURIComponent;var c=\"/gen_204?atyp=i&ei=\"+b(google.kEI);google.kEXPI&&(c+=\"&jexpid=\"+b(google.kEXPI));c+=\"&srcpg=\"+b(google.sn)+\"&jsr=\"+b(u.jsr)+\"&bver=\"+b(u.bv);var g=a.lineNumber;void 0!==g&&(c+=\"&line=\"+g);var h=\\n'\n",
      "b'a.fileName;h&&(0<h.indexOf(\"-extension:/\")&&(f=3),c+=\"&script=\"+b(h),g&&h===window.location.href&&(g=document.documentElement.outerHTML.split(\"\\\\n\")[g],c+=\"&cad=\"+b(g?g.substring(0,300):\"No script found.\")));c+=\"&jsel=\"+f;for(var k in d)c+=\"&\",c+=b(k),c+=\"=\",c+=b(d[k]);c=c+\"&emsg=\"+b(a.name+\": \"+a.message);c=c+\"&jsst=\"+b(a.stack||\"N/A\");12288<=c.length&&(c=c.substr(0,12288));a=c;e||google.log(0,\"\",a);return a};window.onerror=function(a,b,d,e,f){if(t!==a){a=f instanceof Error?f:Error(a);void 0===d||\"lineNumber\"in a||(a.lineNumber=d);void 0===b||\"fileName\"in a||(a.fileName=b);b=void 0;if(a.stack&&(-1!==a.stack.indexOf(\"?xjs=s0\")||a.stack.indexOf(\"&xjs=s0\"))){b=document.querySelectorAll(\"script[src*=\\\\\\\\/xjs\\\\\\\\/_\\\\\\\\/js\\\\\\\\/]\");for(e=d=0;e<b.length;e++)console.log(b[e].async),d+=b[e].async?1:0;var c=f=e=-1,g=-1,h=-1;if(performance&&google.xjsu){e=0;f=google.timers.load.t.xjsee?1:0;g=c=0;h=performance.getEntriesByType(\"resource\");for(var k=0;k<h.length;k++)h[k].name===google.xjsu&&(e=1),-1!==h[k].name.indexOf(\"/xjs/_/js/\")&&(c+=1,g+=\"script\"===h[k].initiatorType?1:0);h=c-g}b={cad:\"pl_\"+e+\".pe_\"+f+\".asc_\"+d+\".tsc_\"+b.length+\".fasc_\"+(b.length-d)+\".lxc_\"+c+\".lsx_\"+g+\".lnsx_\"+h}}google.ml(a,!1,b,!1,\"SyntaxError\"===a.name||\"SyntaxError\"===a.message.substring(0,11)||-1!==a.message.indexOf(\"Script error\")?3:0)}t=null;q&&r>=n&&(window.onerror=null)};})();</script></head><body bgcolor=\"#fff\"><script nonce=\"axhOAvTbRsG6g0qV64ef9Q\">(function(){var src=\\'/images/nav_logo229.png\\';var iesg=false;document.body.onload = function(){window.n && window.n();if (document.images){new Image().src=src;}\\n'\n",
      "b'if (!iesg){document.f&&document.f.q.focus();document.gbqf&&document.gbqf.q.focus();}\\n'\n",
      "b'}\\n'\n",
      "b'})();</script><div id=\"mngb\"><div id=gbar><nobr><b class=gb1>Ricerca</b> <a class=gb1 href=\"https://www.google.it/imghp?hl=it&tab=wi\">Immagini</a> <a class=gb1 href=\"https://maps.google.it/maps?hl=it&tab=wl\">Maps</a> <a class=gb1 href=\"https://play.google.com/?hl=it&tab=w8\">Play</a> <a class=gb1 href=\"https://www.youtube.com/?tab=w1\">YouTube</a> <a class=gb1 href=\"https://news.google.com/?tab=wn\">News</a> <a class=gb1 href=\"https://mail.google.com/mail/?tab=wm\">Gmail</a> <a class=gb1 href=\"https://drive.google.com/?tab=wo\">Drive</a> <a class=gb1 style=\"text-decoration:none\" href=\"https://www.google.it/intl/it/about/products?tab=wh\"><u>Altro</u> &raquo;</a></nobr></div><div id=guser width=100%><nobr><span id=gbn class=gbi></span><span id=gbf class=gbf></span><span id=gbe></span><a href=\"http://www.google.it/history/optout?hl=it\" class=gb4>Cronologia web</a> | <a  href=\"/preferences?hl=it\" class=gb4>Impostazioni</a> | <a target=_top id=gb_70 href=\"https://accounts.google.com/ServiceLogin?hl=it&passive=true&continue=https://www.google.it/&ec=GAZAAQ\" class=gb4>Accedi</a></nobr></div><div class=gbh style=left:0></div><div class=gbh style=right:0></div></div><center><br clear=\"all\" id=\"lgpd\"><div id=\"lga\"><img alt=\"Google\" height=\"92\" src=\"/images/branding/googlelogo/1x/googlelogo_white_background_color_272x92dp.png\" style=\"padding:28px 0 14px\" width=\"272\" id=\"hplogo\"><br><br></div><form action=\"/search\" name=\"f\"><table cellpadding=\"0\" cellspacing=\"0\"><tr valign=\"top\"><td width=\"25%\">&nbsp;</td><td align=\"center\" nowrap=\"\"><input name=\"ie\" value=\"ISO-8859-1\" type=\"hidden\"><input value=\"it\" name=\"hl\" type=\"hidden\"><input name=\"source\" type=\"hidden\" value=\"hp\"><input name=\"biw\" type=\"hidden\"><input name=\"bih\" type=\"hidden\"><div class=\"ds\" style=\"height:32px;margin:4px 0\"><input class=\"lst\" style=\"margin:0;padding:5px 8px 0 6px;vertical-align:top;color:#000\" autocomplete=\"off\" value=\"\" title=\"Cerca con Google\" maxlength=\"2048\" name=\"q\" size=\"57\"></div><br style=\"line-height:0\"><span class=\"ds\"><span class=\"lsbb\"><input class=\"lsb\" value=\"Cerca con Google\" name=\"btnG\" type=\"submit\"></span></span><span class=\"ds\"><span class=\"lsbb\"><input class=\"lsb\" id=\"tsuid_1\" value=\"Mi sento fortunato\" name=\"btnI\" type=\"submit\"><script nonce=\"axhOAvTbRsG6g0qV64ef9Q\">(function(){var id=\\'tsuid_1\\';document.getElementById(id).onclick = function(){if (this.form.q.value){this.checked = 1;if (this.form.iflsig)this.form.iflsig.disabled = false;}\\n'\n",
      "b'else top.location=\\'/doodles/\\';};})();</script><input value=\"AD69kcEAAAAAZKFL3_obFst8_vsA1GZkK4TWh8rJDTYp\" name=\"iflsig\" type=\"hidden\"></span></span></td><td class=\"fl sblc\" align=\"left\" nowrap=\"\" width=\"25%\"><a href=\"/advanced_search?hl=it&amp;authuser=0\">Ricerca avanzata</a></td></tr></table><input id=\"gbv\" name=\"gbv\" type=\"hidden\" value=\"1\"><script nonce=\"axhOAvTbRsG6g0qV64ef9Q\">(function(){var a,b=\"1\";if(document&&document.getElementById)if(\"undefined\"!=typeof XMLHttpRequest)b=\"2\";else if(\"undefined\"!=typeof ActiveXObject){var c,d,e=[\"MSXML2.XMLHTTP.6.0\",\"MSXML2.XMLHTTP.3.0\",\"MSXML2.XMLHTTP\",\"Microsoft.XMLHTTP\"];for(c=0;d=e[c++];)try{new ActiveXObject(d),b=\"2\"}catch(h){}}a=b;if(\"2\"==a&&-1==location.search.indexOf(\"&gbv=2\")){var f=google.gbvu,g=document.getElementById(\"gbv\");g&&(g.value=a);f&&window.setTimeout(function(){location.href=f},0)};}).call(this);</script></form><div id=\"gac_scont\"></div><div style=\"font-size:83%;min-height:3.5em\"><br></div><span id=\"footer\"><div style=\"font-size:10pt\"><div style=\"margin:19px auto;text-align:center\" id=\"WqQANb\"><a href=\"/intl/it/ads/\">Pubblicit\\xe0</a><a href=\"http://www.google.it/intl/it/services/\">Soluzioni aziendali</a><a href=\"/intl/it/about.html\">Tutto su Google</a><a href=\"https://www.google.it/setprefdomain?prefdom=US&amp;sig=K_MQfp4Ik8-OE1z1_YEAHhLdPpTT8%3D\" id=\"fehl\">Google.com</a></div></div><p style=\"font-size:8pt;color:#70757a\">&copy; 2023 - <a href=\"/intl/it/policies/privacy/\">Privacy</a> - <a href=\"/intl/it/policies/terms/\">Termini</a></p></span></center><script nonce=\"axhOAvTbRsG6g0qV64ef9Q\">(function(){window.google.cdo={height:757,width:1440};(function(){var a=window.innerWidth,b=window.innerHeight;if(!a||!b){var c=window.document,d=\"CSS1Compat\"==c.compatMode?c.documentElement:c.body;a=d.clientWidth;b=d.clientHeight}\\n'\n",
      "b'if(a&&b&&(a!=google.cdo.width||b!=google.cdo.height)){var e=google,f=e.log,g=\"/client_204?&atyp=i&biw=\"+a+\"&bih=\"+b+\"&ei=\"+google.kEI,h=\"\",k=[],l=void 0!==window.google&&void 0!==window.google.kOPI&&0!==window.google.kOPI?window.google.kOPI:null;null!=l&&k.push([\"opi\",l.toString()]);for(var m=0;m<k.length;m++){if(0===m||0<m)h+=\"&\";h+=k[m][0]+\"=\"+k[m][1]}f.call(e,\"\",\"\",g+h)};}).call(this);})();</script> <script nonce=\"axhOAvTbRsG6g0qV64ef9Q\">(function(){google.xjs={ck:\\'xjs.hp.KmgsEx1Za9c.L.X.O\\',cs:\\'ACT90oGvn2GYaC76O55g_mrMY5MEji5J9Q\\',csss:\\'ACT90oFTid_mitzF78rVvgdfjZbEZmvZBA\\',excm:[],sepcss:false};})();</script>    <script nonce=\"axhOAvTbRsG6g0qV64ef9Q\">(function(){var u=\\'/xjs/_/js/k\\\\x3dxjs.hp.en.9QlM0Up86x4.O/am\\\\x3dAAAAAAAAAABAAAAAAAAAAAAAANAJAFAAwAI/d\\\\x3d1/ed\\\\x3d1/rs\\\\x3dACT90oG6sriSlbnpJf5RZ94dYrXEj-CeTw/m\\\\x3dsb_he,d,cEt90b,SNUn3,qddgKe,sTsDMc,dtl0hd,eHDfl\\';var amd=0;\\n'\n",
      "b'var e=this||self,f=function(c){return c};var g;var k=function(c){this.g=c};k.prototype.toString=function(){return this.g+\"\"};var m={};\\n'\n",
      "b'function q(){var c=u,n=function(){};google.lx=google.stvsc?n:function(){google.timers&&google.timers.load&&google.tick&&google.tick(\"load\",\"xjsls\");var a=document;var b=\"SCRIPT\";\"application/xhtml+xml\"===a.contentType&&(b=b.toLowerCase());b=a.createElement(b);a=null===c?\"null\":void 0===c?\"undefined\":c;if(void 0===g){var d=null;var l=e.trustedTypes;if(l&&l.createPolicy){try{d=l.createPolicy(\"goog#html\",{createHTML:f,createScript:f,createScriptURL:f})}catch(r){e.console&&e.console.error(r.message)}g=\\n'\n",
      "b'd}else g=d}a=(d=g)?d.createScriptURL(a):a;a=new k(a,m);b.src=a instanceof k&&a.constructor===k?a.g:\"type_error:TrustedResourceUrl\";var h,p;(h=(a=null==(p=(h=(b.ownerDocument&&b.ownerDocument.defaultView||window).document).querySelector)?void 0:p.call(h,\"script[nonce]\"))?a.nonce||a.getAttribute(\"nonce\")||\"\":\"\")&&b.setAttribute(\"nonce\",h);document.body.appendChild(b);google.psa=!0;google.lx=n};google.bx||google.lx()};google.xjsu=u;e._F_jsUrl=u;setTimeout(function(){0<amd?google.caft(function(){return q()},amd):q()},0);})();window._ = window._ || {};window._DumpException = _._DumpException = function(e){throw e;};window._s = window._s || {};_s._DumpException = _._DumpException;window._qs = window._qs || {};_qs._DumpException = _._DumpException;function _F_installCss(c){}\\n'\n",
      "b\"(function(){google.jl={blt:'none',chnk:0,dw:false,dwu:true,emtn:0,end:0,ico:false,ikb:0,ine:false,injs:'none',injt:0,injth:0,injv2:false,lls:'default',pdt:0,rep:0,snet:true,strt:0,ubm:false,uwp:true};})();(function(){var pmc='{\\\\x22d\\\\x22:{},\\\\x22sb_he\\\\x22:{\\\\x22agen\\\\x22:true,\\\\x22cgen\\\\x22:true,\\\\x22client\\\\x22:\\\\x22heirloom-hp\\\\x22,\\\\x22dh\\\\x22:true,\\\\x22ds\\\\x22:\\\\x22\\\\x22,\\\\x22fl\\\\x22:true,\\\\x22host\\\\x22:\\\\x22google.it\\\\x22,\\\\x22jsonp\\\\x22:true,\\\\x22lm\\\\x22:true,\\\\x22msgs\\\\x22:{\\\\x22cibl\\\\x22:\\\\x22Cancella ricerca\\\\x22,\\\\x22dym\\\\x22:\\\\x22Forse cercavi:\\\\x22,\\\\x22lcky\\\\x22:\\\\x22Mi sento fortunato\\\\x22,\\\\x22lml\\\\x22:\\\\x22Ulteriori informazioni\\\\x22,\\\\x22psrc\\\\x22:\\\\x22Questa ricerca \\\\\\\\u00e8 stata rimossa dalla tua \\\\\\\\u003Ca href\\\\x3d\\\\\\\\\\\\x22/history\\\\\\\\\\\\x22\\\\\\\\u003ECronologia web\\\\\\\\u003C/a\\\\\\\\u003E\\\\x22,\\\\x22psrl\\\\x22:\\\\x22Rimuovi\\\\x22,\\\\x22sbit\\\\x22:\\\\x22Ricerca tramite immagine\\\\x22,\\\\x22srch\\\\x22:\\\\x22Cerca con Google\\\\x22},\\\\x22ovr\\\\x22:{},\\\\x22pq\\\\x22:\\\\x22\\\\x22,\\\\x22rfs\\\\x22:[],\\\\x22sbas\\\\x22:\\\\x220 3px 8px 0 rgba(0,0,0,0.2),0 0 0 1px rgba(0,0,0,0.08)\\\\x22,\\\\x22stok\\\\x22:\\\\x222zPupWDEpncnCQQ2lwvww0izGTc\\\\x22}}';google.pmc=JSON.parse(pmc);})();(function(){\\n\"\n",
      "b'var b=function(a){var c=0;return function(){return c<a.length?{done:!1,value:a[c++]}:{done:!0}}},e=this||self;var g,h;a:{for(var k=[\"CLOSURE_FLAGS\"],l=e,n=0;n<k.length;n++)if(l=l[k[n]],null==l){h=null;break a}h=l}var p=h&&h[610401301];g=null!=p?p:!1;var q,r=e.navigator;q=r?r.userAgentData||null:null;function t(a){return g?q?q.brands.some(function(c){return(c=c.brand)&&-1!=c.indexOf(a)}):!1:!1}function u(a){var c;a:{if(c=e.navigator)if(c=c.userAgent)break a;c=\"\"}return-1!=c.indexOf(a)};function v(){return g?!!q&&0<q.brands.length:!1}function w(){return u(\"Safari\")&&!(x()||(v()?0:u(\"Coast\"))||(v()?0:u(\"Opera\"))||(v()?0:u(\"Edge\"))||(v()?t(\"Microsoft Edge\"):u(\"Edg/\"))||(v()?t(\"Opera\"):u(\"OPR\"))||u(\"Firefox\")||u(\"FxiOS\")||u(\"Silk\")||u(\"Android\"))}function x(){return v()?t(\"Chromium\"):(u(\"Chrome\")||u(\"CriOS\"))&&!(v()?0:u(\"Edge\"))||u(\"Silk\")}function y(){return u(\"Android\")&&!(x()||u(\"Firefox\")||u(\"FxiOS\")||(v()?0:u(\"Opera\"))||u(\"Silk\"))};var z=v()?!1:u(\"Trident\")||u(\"MSIE\");y();x();w();var A=!z&&!w(),D=function(a){if(/-[a-z]/.test(\"ved\"))return null;if(A&&a.dataset){if(y()&&!(\"ved\"in a.dataset))return null;a=a.dataset.ved;return void 0===a?null:a}return a.getAttribute(\"data-\"+\"ved\".replace(/([A-Z])/g,\"-$1\").toLowerCase())};var E=[],F=null;function G(a){a=a.target;var c=performance.now(),f=[],H=f.concat,d=E;if(!(d instanceof Array)){var m=\"undefined\"!=typeof Symbol&&Symbol.iterator&&d[Symbol.iterator];if(m)d=m.call(d);else if(\"number\"==typeof d.length)d={next:b(d)};else throw Error(\"a`\"+String(d));for(var B=[];!(m=d.next()).done;)B.push(m.value);d=B}E=H.call(f,d,[c]);if(a&&a instanceof HTMLElement)if(a===F){if(c=4<=E.length)c=5>(E[E.length-1]-E[E.length-4])/1E3;if(c){c=google.getEI(a);a.hasAttribute(\"data-ved\")?f=a?D(a)||\"\":\"\":f=(f=\\n'\n",
      "b'a.closest(\"[data-ved]\"))?D(f)||\"\":\"\";f=f||\"\";if(a.hasAttribute(\"jsname\"))a=a.getAttribute(\"jsname\");else{var C;a=null==(C=a.closest(\"[jsname]\"))?void 0:C.getAttribute(\"jsname\")}google.log(\"rcm\",\"&ei=\"+c+\"&ved=\"+f+\"&jsname=\"+(a||\"\"))}}else F=a,E=[c]}window.document.addEventListener(\"DOMContentLoaded\",function(){document.body.addEventListener(\"click\",G)});}).call(this);</script></body></html>'\n"
     ]
    }
   ],
   "source": [
    "#Permettte di utilizzare i dati delle reti\n",
    "import urllib.request \n",
    "\n",
    "try:\n",
    "    # urlpen(URL) permette di accedere ai dati del web -> indirizzo web e di dargli un nome->webdoc\n",
    "        #non funziona se la pagina richiede autenticazione\n",
    "    with urllib.request.urlopen(\"https://www.google.it/\") as webdoc:\n",
    "        #simile all'apertura di un file\n",
    "        for riga in webdoc:\n",
    "            print(riga) #stampa il codice HTML della pagina richiesta\n",
    "except:\n",
    "    print(\"Non è possibile aprire il link\")\n"
   ]
  },
  {
   "attachments": {},
   "cell_type": "markdown",
   "metadata": {},
   "source": [
    "PARSE E UNPARSING"
   ]
  },
  {
   "cell_type": "code",
   "execution_count": 7,
   "metadata": {},
   "outputs": [
    {
     "name": "stdout",
     "output_type": "stream",
     "text": [
      "Effettuo parsing -> urllib.parse.urlparse(URL)\n",
      "ParseResult(scheme='https', netloc='ubuntu.com', path='/download/desktop', params='', query='', fragment='')\n",
      "Effettuo unparsing -> urllib.parse.urlunparse(parts)\n",
      "https://ubuntu.com/download/desktop\n"
     ]
    }
   ],
   "source": [
    "#permette di effettuare il\n",
    "    # parsing-> analisi di indirizzi URL -> urlparse()\n",
    "    # unparsing -> costruzione di indirizzi URL -> urlunparse(parts) \n",
    "import urllib.parse\n",
    "\n",
    "URL=\"https://ubuntu.com/download/desktop\"\n",
    "\n",
    "print(\"Effettuo parsing -> urllib.parse.urlparse(URL)\")\n",
    "#urlparse() suddivide un URL in parti (una TUPLA):\n",
    "    #schema -> http\n",
    "    #indirizzo di reta\n",
    "    #percorso nel file system\n",
    "    #parametri\n",
    "    #query\n",
    "    #frammento\n",
    "parts=urllib.parse.urlparse(URL)\n",
    "print(parts)\n",
    "\n",
    "print(\"Effettuo unparsing -> urllib.parse.urlunparse(parts)\")\n",
    "#urlunparse(parts) costruisce un URL a partire dalle parti output di urlparse()\n",
    "print(urllib.parse.urlunparse(parts))\n",
    "\n"
   ]
  }
 ],
 "metadata": {
  "kernelspec": {
   "display_name": "base",
   "language": "python",
   "name": "python3"
  },
  "language_info": {
   "codemirror_mode": {
    "name": "ipython",
    "version": 3
   },
   "file_extension": ".py",
   "mimetype": "text/x-python",
   "name": "python",
   "nbconvert_exporter": "python",
   "pygments_lexer": "ipython3",
   "version": "3.10.9"
  },
  "orig_nbformat": 4
 },
 "nbformat": 4,
 "nbformat_minor": 2
}
