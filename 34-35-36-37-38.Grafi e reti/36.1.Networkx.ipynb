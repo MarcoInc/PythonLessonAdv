{
 "cells": [
  {
   "attachments": {},
   "cell_type": "markdown",
   "metadata": {},
   "source": [
    "Networkx è una libreria Python usata per l'analisi di reti complesse e supporta le strutture:\n",
    "\n",
    "    Orientata\n",
    "\n",
    "    Non orientata \n",
    "\n",
    "    Multigrafo\n",
    "\n",
    "Networkx è flessibile:\n",
    "\n",
    "    nodi possono essere oggeti di Python\n",
    "\n",
    "    archi possono contenere dati arbitari\n",
    "\n",
    "Esso può gestire dati di grandi dimensioni\n",
    "\n",
    "\n",
    "esso va importato con:\n",
    "\n",
    "import networkx as nx\n",
    "\n",
    "Graph/() -> l'istruzione di base per la creazione di un grafo -> g=nx.Graph()"
   ]
  }
 ],
 "metadata": {
  "kernelspec": {
   "display_name": "base",
   "language": "python",
   "name": "python3"
  },
  "language_info": {
   "codemirror_mode": {
    "name": "ipython",
    "version": 3
   },
   "file_extension": ".py",
   "mimetype": "text/x-python",
   "name": "python",
   "nbconvert_exporter": "python",
   "pygments_lexer": "ipython3",
   "version": "3.10.9"
  },
  "orig_nbformat": 4
 },
 "nbformat": 4,
 "nbformat_minor": 2
}
