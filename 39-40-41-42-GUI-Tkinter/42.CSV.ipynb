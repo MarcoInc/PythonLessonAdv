{
 "cells": [
  {
   "attachments": {},
   "cell_type": "markdown",
   "metadata": {},
   "source": [
    "Incompleto\n"
   ]
  },
  {
   "attachments": {
    "image.png": {
     "image/png": "[encoded data removed]"
    }
   },
   "cell_type": "markdown",
   "metadata": {},
   "source": [
    "Quando l'utente cliccherà sul pulsante di salvataggio, verrà attivata la seguente catena di\n",
    "eventi:\n",
    "\n",
    "1. verrà aperto il file abq_data_record_DATACORRENTE.csv;\n",
    "\n",
    "2. se il file non esiste verrà creato e il nome dei campi verrà scritto nella prima linea;\n",
    "\n",
    "3. il dizionario dei dati sarà recuperato dall’oggetto DataRecordForm (contenente tutte le\n",
    "sezioni del form);\n",
    "\n",
    "4. il dato viene formattato come una riga CSV (record) e viene aggiunto in append al file;\n",
    "\n",
    "5. il form viene resettato e all'utente viene comunicato che i dati del form sono stati salvati.\n",
    "\n",
    "Per poter eseguire tutti i passaggi è necessario introdurre alcune librerie di Python utili per i\n",
    "nostri scopi.\n",
    "\n",
    "Innanzitutto, si dovrà recuperare una stringa corrispondente ad una data per impostare il\n",
    "nome del file CSV. \n",
    "La libreria in questione si chiama datetime. Si dovrà verificare, inoltre, se un file\n",
    "esiste. \n",
    "\n",
    "La libreria di aiuto sarà os. \n",
    "\n",
    "Infine, dovremmo scrivere sul file CSV e per tale scopo verrà utilizzata la libreria csv della standard library di Python.\n",
    "\n",
    "Si procede, quindi, con l'importazione delle tre librerie all'inizio del programma con il\n",
    "seguente codice:\n",
    "\n",
    "![image.png](attachment:image.png)\n",
    "\n"
   ]
  }
 ],
 "metadata": {
  "kernelspec": {
   "display_name": "base",
   "language": "python",
   "name": "python3"
  },
  "language_info": {
   "codemirror_mode": {
    "name": "ipython",
    "version": 3
   },
   "file_extension": ".py",
   "mimetype": "text/x-python",
   "name": "python",
   "nbconvert_exporter": "python",
   "pygments_lexer": "ipython3",
   "version": "3.10.9"
  },
  "orig_nbformat": 4
 },
 "nbformat": 4,
 "nbformat_minor": 2
}
