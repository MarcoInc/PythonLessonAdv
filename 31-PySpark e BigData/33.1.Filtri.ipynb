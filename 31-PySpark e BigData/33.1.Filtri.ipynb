{
 "cells": [
  {
   "cell_type": "code",
   "execution_count": 5,
   "metadata": {},
   "outputs": [
    {
     "name": "stdout",
     "output_type": "stream",
     "text": [
      "Voti <6\n",
      "[1, 3, 5, 4, 2, 2]\n",
      "Quanti ==6?\n",
      "2\n"
     ]
    }
   ],
   "source": [
    "import findspark \n",
    "findspark.init()\n",
    "\n",
    "from pyspark import SparkContext\n",
    "\n",
    "sc=SparkContext.getOrCreate()\n",
    "\n",
    "rdd_voti=sc.parallelize([1,9,7,3,5,8,4,6,2,10,2,8,7,6])\n",
    "\n",
    "print(\"Voti <6\")\n",
    "#filtro tutti gli gli elementi <6\n",
    "filtered_rdd_voti=rdd_voti.filter(lambda voto: voto<6)\n",
    "\n",
    "ris=filtered_rdd_voti.collect()\n",
    "\n",
    "print(ris)\n",
    "print(\"Quanti ?) <6\")\n",
    "filtered_rdd_voti=rdd_voti.filter(lambda voto: voto==6)\n",
    "count_voto=filtered_rdd_voti.count()\n",
    "print(count_voto)\n",
    "\n",
    "sc.stop()"
   ]
  },
  {
   "cell_type": "code",
   "execution_count": 24,
   "metadata": {},
   "outputs": [
    {
     "name": "stdout",
     "output_type": "stream",
     "text": [
      "Raggruppo....-> groupBy(.lambda.)\n",
      "LISTA VALORI PARI E DISPARI -> mapValues(list)\n",
      "[('INSUF', [1, 3, 5, 4, 2, 2]), ('SUF', [9, 7, 8, 6, 10, 8, 7, 6])]\n",
      "MAX PER OGNI GRUPPO -> mapValues(max)\n",
      "[('INSUF', 5), ('SUF', 10)]\n",
      "FUNZIONE CUSTOM -> mapValues(..lambda)\n",
      "Estraggo in base ad un range...\n",
      "[('INSUF', (1, 5)), ('SUF', (6, 10))]\n",
      "MUOVERSI DENTRO LA DDR CUSTOM -> mapValues(..lambda)\n",
      "Ordino i gruppi...-> sortBy(..lambda..)\n",
      "Gli estremi..\n",
      "[('INSUF', (1, 5)), ('SUF', (6, 10))]\n",
      "Mi sposto...\n",
      "Il MAX tra i SUFF -> [1][1][1]\n",
      "10\n"
     ]
    }
   ],
   "source": [
    "import findspark \n",
    "findspark.init()\n",
    "\n",
    "from pyspark import SparkContext\n",
    "\n",
    "sc=SparkContext.getOrCreate()\n",
    "\n",
    "rdd_voti=sc.parallelize([1,9,7,3,5,8,4,6,2,10,2,8,7,6])\n",
    "\n",
    "print('Raggruppo....-> groupBy(.lambda.)')\n",
    "#crea due tuple chiave/valore in cui:\n",
    "    #chiave è SUF o INSUF\n",
    "    #il valore è un iterabile NON ANCORA ELENCABILI\n",
    "    # che rispettano le condizioni\n",
    "grouped_rdd_voti=rdd_voti.groupBy(lambda voto:\n",
    "                                    'SUF' if voto>=6 else 'INSUF')\n",
    "\n",
    "print('LISTA VALORI PARI E DISPARI -> mapValues(list)')\n",
    "#Adesso i valori sono sottoforma di una lista\n",
    "grouped_list=grouped_rdd_voti.mapValues(list)\n",
    "#mapValues(list) -> una funzione di TRASFORMAZIONE da RDD a RDD\n",
    "    #ARGOMENTO -> una funzione build-in o custom\n",
    "\n",
    "ris=grouped_list.collect()\n",
    "#[('INSUF', [1, 3, 5, 4, 2, 2]), ('SUF', [9, 7, 8, 6, 10, 8, 7, 6])]\n",
    "print(ris)\n",
    "\n",
    "print('MAX PER OGNI GRUPPO -> mapValues(max)')\n",
    "#Otteniamo il valore MAX di ogni gruppo\n",
    "grouped_list_max=grouped_rdd_voti.mapValues(max)\n",
    "ris=grouped_list_max.collect()\n",
    "print(ris)\n",
    "\n",
    "print('FUNZIONE CUSTOM -> mapValues(..lambda)')\n",
    "print('Estraggo in base ad un range...')\n",
    "#Otteniamo il valori in base ad un range\n",
    "    #Per ciascuno gruppo estraiamo il min e il max\n",
    "grouped_list_range=grouped_rdd_voti.mapValues(lambda voti: \n",
    "                                            (min(voti), max(voti)))\n",
    "#[('INSUF', (1, 5)), ('SUF', (6, 10))]\n",
    "\n",
    "ris=grouped_list_range.collect()\n",
    "print(ris)\n",
    "\n",
    "print('MUOVERSI DENTRO LA DDR CUSTOM -> mapValues(..lambda)')\n",
    "\n",
    "#Come prima -> prendo max e min\n",
    "grouped_list_range=grouped_rdd_voti.mapValues(lambda voti: \n",
    "                                            (min(voti), max(voti)))\n",
    "print('Ordino i gruppi...-> sortBy(..lambda..)')\n",
    "#Ordino i gruppo in modo alfabetico\n",
    "grouped_list_position=grouped_list_range.sortBy(lambda voti: voti, ascending=True)\n",
    "#[('INSUF', (1, 5)), ('SUF', (6, 10))]\n",
    "\n",
    "estremi=grouped_list_range.collect()\n",
    "\n",
    "print('Gli estremi..')\n",
    "print(estremi)\n",
    "\n",
    "print('Mi sposto...')\n",
    "print('Il MAX tra i SUFF -> [1][1][1]')\n",
    "#[1] -> secondo elemento della lista relativo ai voti -> SUFF(6,10)\n",
    "    #[1]-> tupla con i due estremi -> (6,10)\n",
    "        #[1] -> secondo numero -> il max -> 10\n",
    "#Quindi prende il MAX tra i SUF\n",
    "print(estremi[1][1][1])\n",
    "\n",
    "sc.stop()"
   ]
  }
 ],
 "metadata": {
  "kernelspec": {
   "display_name": "base",
   "language": "python",
   "name": "python3"
  },
  "language_info": {
   "codemirror_mode": {
    "name": "ipython",
    "version": 3
   },
   "file_extension": ".py",
   "mimetype": "text/x-python",
   "name": "python",
   "nbconvert_exporter": "python",
   "pygments_lexer": "ipython3",
   "version": "3.10.9"
  },
  "orig_nbformat": 4
 },
 "nbformat": 4,
 "nbformat_minor": 2
}
