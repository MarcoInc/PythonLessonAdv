{
 "cells": [
  {
   "cell_type": "code",
   "execution_count": 2,
   "metadata": {},
   "outputs": [
    {
     "name": "stdout",
     "output_type": "stream",
     "text": [
      "+-----+\n",
      "|hello|\n",
      "+-----+\n",
      "|spark|\n",
      "+-----+\n",
      "\n"
     ]
    }
   ],
   "source": [
    "#è richiesta l'installazione di \n",
    "    # modulo pyspark\n",
    "    # hadook come variabile d'ambiente\n",
    "\n",
    "#Uno script di PySpark deve avere sempre queste righe iniziali\n",
    "import findspark \n",
    "findspark.init()\n",
    "\n",
    "import pyspark \n",
    "from pyspark.sql import SparkSession\n",
    "#SparkSession->Oggetto che contiene -> per i DataFrame\n",
    "    #SparkContext -> per gli RDD\n",
    "\n",
    "\n",
    "#spark è un oggetto\n",
    "    #getOrCreate -> crea un builder\n",
    "spark=SparkSession.builder.getOrCreate()\n",
    "\n",
    "#dati contiene il risultato della query\n",
    "dati=spark.sql(\"select 'spark' as hello\")\n",
    "dati.show()\n"
   ]
  },
  {
   "attachments": {},
   "cell_type": "markdown",
   "metadata": {},
   "source": [
    "TIPICO SCRIPT PySpark"
   ]
  },
  {
   "cell_type": "code",
   "execution_count": 1,
   "metadata": {},
   "outputs": [
    {
     "name": "stdout",
     "output_type": "stream",
     "text": [
      "RDD creato\n",
      "ParallelCollectionRDD[0] at readRDDFromFile at PythonRDD.scala:287\n",
      "Somma:  165\n",
      "Deviazione standard:  12.457427503300993\n",
      "Varianza:  155.1875\n",
      "Tipo di dato sum() :  <class 'int'>\n",
      "<class 'pyspark.statcounter.StatCounter'>\n",
      "Statistiche:  (count: 4, mean: 41.25, stdev: 12.457427503300993, max: 55.0, min: 21.0)\n",
      "Media da stats:  41.25\n",
      "Da RDD ad una LISTA di Python-> collect(..)\n",
      "[21, 44, 45, 55]\n",
      "<class 'list'>\n",
      "Slicing lista[2:5] :  [45, 55]\n",
      "Indexing lista[1] :  44\n",
      "Pop lista.pop() :  55\n"
     ]
    }
   ],
   "source": [
    "#Uno script di PySpark deve avere SEMPRE queste righe iniziali\n",
    "import findspark \n",
    "findspark.init()\n",
    "\n",
    "import pyspark \n",
    "from pyspark import SparkContext\n",
    "\n",
    "#TIPICA STRUTTURA DI UNO SCRIPT PySpark\n",
    "sc=SparkContext('local','esempio')\n",
    "#SparkContext\n",
    "    #local -> cluster locale\n",
    "    #nome dell'applicazione spark -> esempio\n",
    "    \n",
    "#CODICE ANALISI DATI\n",
    "\n",
    "#Chiude lo SparckContext\n",
    "sc.stop()\n",
    "\n",
    "sc=SparkContext('local','esempio')\n",
    "#rdd_numeri sarà una struttura RDD\n",
    "rdd_numeri=sc.parallelize([21,44,45,55])\n",
    "print(\"RDD creato\")\n",
    "print(rdd_numeri)\n",
    "print(\"Somma: \",rdd_numeri.sum())\n",
    "print(\"Deviazione standard: \",rdd_numeri.stdev())\n",
    "print(\"Varianza: \",rdd_numeri.variance())\n",
    "\n",
    "#Tutti i dati che otteniamo sono saranno BigData ma normali strutture di Python\n",
    "print(\"Tipo di dato sum() : \",type(rdd_numeri.sum()))\n",
    "\n",
    "rdd_stats=rdd_numeri.stats();  #è un oggetto di tipo StatCounter\n",
    "#stats() mostra statistiche tutti insieme:\n",
    "    #count\n",
    "    # mean\n",
    "    # stdev\n",
    "    # max\n",
    "    # min\n",
    "#ritorna un oggetto di tipo StatCounter\n",
    "print(type(rdd_stats))\n",
    "#<class 'pyspark.statcounter.StatCounter'>\n",
    "\n",
    "print(\"Statistiche: \",rdd_stats)\n",
    "print(\"Media da stats: \",rdd_stats.mean())\n",
    "\n",
    "print(\"Da RDD ad una LISTA di Python-> collect(..)\")\n",
    "#Abbiamo convertito un RDD in una LISTA di Python\n",
    "lista_numeri=rdd_numeri.collect()\n",
    "print(lista_numeri)\n",
    "print(type(lista_numeri)) #è una <class 'list'>\n",
    "# operazioni tipiche delle liste\n",
    "print(\"Slicing lista[2:5] : \",lista_numeri[2:5])\n",
    "print(\"Indexing lista[1] : \",lista_numeri[1])\n",
    "print(\"Pop lista.pop() : \",lista_numeri.pop())\n",
    "\n",
    "sc.stop()\n"
   ]
  }
 ],
 "metadata": {
  "kernelspec": {
   "display_name": "base",
   "language": "python",
   "name": "python3"
  },
  "language_info": {
   "codemirror_mode": {
    "name": "ipython",
    "version": 3
   },
   "file_extension": ".py",
   "mimetype": "text/x-python",
   "name": "python",
   "nbconvert_exporter": "python",
   "pygments_lexer": "ipython3",
   "version": "3.10.9"
  },
  "orig_nbformat": 4
 },
 "nbformat": 4,
 "nbformat_minor": 2
}
