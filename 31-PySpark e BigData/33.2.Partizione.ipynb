{
 "cells": [
  {
   "cell_type": "code",
   "execution_count": 14,
   "metadata": {},
   "outputs": [
    {
     "name": "stdout",
     "output_type": "stream",
     "text": [
      "PARTIZIONI STANDARD -> range\n",
      "Quante partizioni? -> (range(1,26)\n",
      "8\n",
      "Quali partizioni? -> glom().collect()\n",
      "[[1, 2, 3], [4, 5, 6], [7, 8, 9], [10, 11, 12], [13, 14, 15], [16, 17, 18], [19, 20, 21], [22, 23, 24, 25]]\n",
      "Quante partizioni? -> range(1,26),4\n",
      "4\n",
      "[[1, 2, 3, 4, 5, 6], [7, 8, 9, 10, 11, 12], [13, 14, 15, 16, 17, 18], [19, 20, 21, 22, 23, 24, 25]]\n",
      "PARTIZIONI PERSONALIZZATE -> partitionBy()\n",
      "[[(6, 12), (12, 24), (18, 36), (24, 48)], [(1, 2), (7, 14), (13, 26), (19, 38), (25, 50)], [(2, 4), (8, 16), (14, 28), (20, 40)], [(3, 6), (9, 18), (15, 30), (21, 42)], [(4, 8), (10, 20), (16, 32), (22, 44)], [(5, 10), (11, 22), (17, 34), (23, 46)]]\n",
      "RIDUCIAMO IL NUMERO DI PARTIZIONI -> coalesce()\n",
      "[[(6, 12), (12, 24), (18, 36), (24, 48), (1, 2), (7, 14), (13, 26), (19, 38), (25, 50)], [(5, 10), (11, 22), (17, 34), (23, 46), (3, 6), (9, 18), (15, 30), (21, 42)], [(2, 4), (8, 16), (14, 28), (20, 40), (4, 8), (10, 20), (16, 32), (22, 44)]]\n"
     ]
    }
   ],
   "source": [
    "import findspark \n",
    "findspark.init()\n",
    "\n",
    "from pyspark import SparkContext\n",
    "\n",
    "sc=SparkContext.getOrCreate()\n",
    "\n",
    "print(\"PARTIZIONI STANDARD -> range\")\n",
    "#Divide in partizioni DEFAULT\n",
    "rdd_numeri=sc.parallelize(range(1,26))\n",
    "\n",
    "print('Quante partizioni? -> (range(1,26)')\n",
    "print(rdd_numeri.getNumPartitions())\n",
    "\n",
    "print('Quali partizioni? -> glom().collect()')\n",
    "#glom() -> riaggrega i dati di ogni partizione\n",
    "print(rdd_numeri.glom().collect())\n",
    "#ci mostra quali sono le partizioni\n",
    "    #([ [PARTIZIONE 1],[PARTIZIONE 2],[PARTIZIONE 3]...])\n",
    "\n",
    "#Divide in 4 partizioni\n",
    "print('Quante partizioni? -> range(1,26),4')\n",
    "rdd_numeri=sc.parallelize(range(1,26),4) #Divide in 4 partizioni\n",
    "print(rdd_numeri.getNumPartitions())\n",
    "print(rdd_numeri.glom().collect())\n",
    "\n",
    "print(\"PARTIZIONI PERSONALIZZATE -> partitionBy()\")\n",
    "#Per ciascun numero otteniamo la tupla (n,n*2)\n",
    "#Una volta ottenute tutte le tuple, le suddividiamo in 6 partizioni\n",
    "rdd_numeri_part=rdd_numeri.map(lambda x: (x,x*2)).partitionBy(6)\n",
    "#[[(6, 12), (12, 24), (18, 36), (24, 48)], [(1, 2),....]....[])\n",
    "print(rdd_numeri_part.glom().collect())\n",
    "\n",
    "print(\"RIDUCIAMO IL NUMERO DI PARTIZIONI -> coalesce()\")\n",
    "# coalesce() -> riduciamo il numero di partizioni -> cambiano le [ ]\n",
    "rdd_numeri_unite=rdd_numeri_part.coalesce(3) #riduciamo a 3 partizioni\n",
    "print(rdd_numeri_unite.glom().collect())\n",
    "#[[(6, 12), (12, 24), (18, 36), (24, 48), (1, 2), (7, 14), (13, 26), (19, 38), (25, 50)], \n",
    "# [(5, 10), (11, 22), (17, 34), (23, 46), (3, 6), (9, 18), (15, 30), (21, 42)], \n",
    "# [(2, 4), (8, 16), (14, 28), (20, 40), (4, 8), (10, 20), (16, 32), (22, 44)]]\n",
    "sc.stop()"
   ]
  },
  {
   "cell_type": "code",
   "execution_count": null,
   "metadata": {},
   "outputs": [],
   "source": []
  }
 ],
 "metadata": {
  "kernelspec": {
   "display_name": "base",
   "language": "python",
   "name": "python3"
  },
  "language_info": {
   "codemirror_mode": {
    "name": "ipython",
    "version": 3
   },
   "file_extension": ".py",
   "mimetype": "text/x-python",
   "name": "python",
   "nbconvert_exporter": "python",
   "pygments_lexer": "ipython3",
   "version": "3.10.9"
  },
  "orig_nbformat": 4
 },
 "nbformat": 4,
 "nbformat_minor": 2
}
