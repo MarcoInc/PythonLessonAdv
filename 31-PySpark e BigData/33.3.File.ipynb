{
 "cells": [
  {
   "cell_type": "code",
   "execution_count": 3,
   "metadata": {},
   "outputs": [
    {
     "name": "stdout",
     "output_type": "stream",
     "text": [
      "['1,9,7,3,5,8,4,6,2,0,2,8,7,6']\n"
     ]
    }
   ],
   "source": [
    "import findspark \n",
    "findspark.init()\n",
    "\n",
    "from pyspark import SparkContext\n",
    "\n",
    "sc=SparkContext.getOrCreate()\n",
    "\n",
    "print(\"Leggo un file -> textFile(FILE)\")\n",
    "#Lettura di un file\n",
    "rdd_file=sc.textFile('33.3.dati.txt')\n",
    "#è possibile accedere ad una risorsa tramite il suo NameNode -> indirizzo HDFS\n",
    "\n",
    "print(rdd_file.collect())\n",
    "\n",
    "sc.stop()"
   ]
  }
 ],
 "metadata": {
  "kernelspec": {
   "display_name": "base",
   "language": "python",
   "name": "python3"
  },
  "language_info": {
   "codemirror_mode": {
    "name": "ipython",
    "version": 3
   },
   "file_extension": ".py",
   "mimetype": "text/x-python",
   "name": "python",
   "nbconvert_exporter": "python",
   "pygments_lexer": "ipython3",
   "version": "3.10.9"
  },
  "orig_nbformat": 4
 },
 "nbformat": 4,
 "nbformat_minor": 2
}
