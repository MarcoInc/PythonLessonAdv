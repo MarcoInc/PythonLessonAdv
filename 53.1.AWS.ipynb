{
 "cells": [
  {
   "cell_type": "code",
   "execution_count": null,
   "metadata": {
    "vscode": {
     "languageId": "plaintext"
    }
   },
   "outputs": [],
   "source": [
    "AWS\n",
    "\n",
    "CAMPO INFRASTRUTTURALE\n",
    "\n",
    "    1. Hadoop in the cloud -> Apache Hadoop\n",
    "        \n",
    "        Raggruppa più macchine per analizzare dataset di grandi dimensioni\n",
    "\n",
    "    2. Streaming/in-memory\n",
    "\n",
    "        Abilita applicazioni ultraveloci che elaborano nuovi dati alla velocità con cui vengono generati\n",
    "\n",
    "    3. NOSQL Databases \n",
    "\n",
    "        Database che NON SONO TABULARI -> non usano tabelle relazionali\n",
    "\n",
    "    4. Cloud EDW -> Data Warehouse Aziendale (Enterprice)\n",
    "\n",
    "        Warehouse relazionale\n",
    "\n",
    "        Analisi dei dati \n",
    "\n",
    "        Aggrega dati da più fonti\n",
    "\n",
    "        Ovviamente in CLOUD\n",
    "\n",
    "    5. Storage -> risponde alle esigenze di memorizzare grandi quantità di dati in cloud\n",
    "\n",
    "    6. Cluster services -> per gestire i cluster\n",
    "\n",
    "CAMPO CROSS-INFRASTRUCTURE/ANALYTICS -> analisi aziendale dove i dataset provengono da\n",
    "più canali o fonti e sono collegati insieme\n",
    "\n",
    "    1. Piattaforme BI -> Business Intelligence -> supporta chi fa parte del processo DECISIONALE\n",
    "\n",
    "        eseguire il cleanup e analizzare i dati da database, email, video, risposte a sondaggi, ecc. \n",
    "\n",
    "    2. Machine Learning -> sistemi che apprendono e migliorano le performance \n",
    "\n",
    "\n",
    "\n",
    "\n",
    "\n",
    "\n"
   ]
  }
 ],
 "metadata": {
  "language_info": {
   "name": "python"
  },
  "orig_nbformat": 4
 },
 "nbformat": 4,
 "nbformat_minor": 2
}
