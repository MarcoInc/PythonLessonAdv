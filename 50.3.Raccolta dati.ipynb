{
 "cells": [
  {
   "attachments": {},
   "cell_type": "markdown",
   "metadata": {},
   "source": [
    "Serve in primis definire il problema per comprendere l'obiettivo\n",
    "\n",
    "Sarebbe corretto mantentere un dizionario dei dati e definendo lo scopo di ogni singolo attributo\n",
    "\n",
    "Sezione Data Understanding -> quali dati nelle righe e colonne\n",
    "\n",
    "pandas-profiling  -> libreria per comprendere i dati\n",
    "\n",
    "        * metodo ProfileReport che ritorna le seguenti sezioni:\n",
    "\n",
    "            Overview -> informazioni realtive al DataSet\n",
    "\n",
    "            Variables -> da info su ciascuna delle variabili\n",
    "            \n",
    "            Correlations -> Tabelle di correlazione"
   ]
  }
 ],
 "metadata": {
  "language_info": {
   "name": "python"
  },
  "orig_nbformat": 4
 },
 "nbformat": 4,
 "nbformat_minor": 2
}
