{
 "cells": [
  {
   "attachments": {},
   "cell_type": "markdown",
   "metadata": {},
   "source": [
    "In Italia ci sono tante infrastrutture relativi ai:\n",
    "\n",
    "    *HPC (Hight Performance Computing)\n",
    "    ->computer cluster con elaborazione nell'ordinedi PetaFLOPS\n",
    "                (PETA Floating Point Operation Per Seconds) -> in virgola mobile\n",
    "    \n",
    "        >CINECA -> consorzio interuniversitario italiano\n",
    "\n",
    "    *HTC (Hight Technology Computer)\n",
    "\n"
   ]
  }
 ],
 "metadata": {
  "language_info": {
   "name": "python"
  },
  "orig_nbformat": 4
 },
 "nbformat": 4,
 "nbformat_minor": 2
}
