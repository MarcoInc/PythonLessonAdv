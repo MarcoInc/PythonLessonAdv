{
 "cells": [
  {
   "attachments": {},
   "cell_type": "markdown",
   "metadata": {},
   "source": [
    "AWS gestisce grandi quantità di dati su vasta scala\n",
    "\n",
    "Amazon Simple Storage Service(S3)-> alimenta i data lake\n",
    "\n",
    "Gli strumenti di analisi di AWS semplificano l'estrazione rapida di informazioni dettagliate sui dati\n",
    "\n",
    "AWS offre strumenti che strumenti che vanno al di la funzionalita di sicurezza -> come gestione delle policy di sicurezza unificata e un monitoraggio proattivo tramite crittografia e controllo degli accessi\n",
    "\n",
    "DATI SU AWS\n",
    "\n",
    "    *10000 data lake su AWS\n",
    "\n",
    "    *Amazon EMR -> 3 volte più veloce di Apache Spark standard\n",
    "\n",
    "    *3 Petabyte (10^15) di archivazione dati in cluster con Amazon OpenSearch Service\n",
    "\n",
    "AWS supporta il MACHINE LEARNING addestrando con Amazon SageMaker\n",
    "\n",
    "Amazon EMR -> piattaforma per analizzare Big Data con Machine Learning\n",
    "\n",
    "    1. Pipeline di dati scalabili:\n",
    "\n",
    "        *Estrazionione di dati da una varietà di fonti\n",
    "\n",
    "        *sfrutta Apache Hudi èer datalake su scala petabyte\n",
    "\n",
    "    2. Machine Learning applicata alla data science\n",
    "\n",
    "    3. Elaborazione di flussi di dati in tempo reale -> fonti dati streaming\n",
    "\n",
    "    4. Interrogazione di qualsiasi set di dati\n",
    "\n",
    "\n"
   ]
  }
 ],
 "metadata": {
  "language_info": {
   "name": "python"
  },
  "orig_nbformat": 4
 },
 "nbformat": 4,
 "nbformat_minor": 2
}
