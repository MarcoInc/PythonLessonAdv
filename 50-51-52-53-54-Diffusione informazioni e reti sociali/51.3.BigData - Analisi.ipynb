{
 "cells": [
  {
   "attachments": {},
   "cell_type": "markdown",
   "metadata": {},
   "source": [
    "Ai fini dell'installazione si dovrebbe:\n",
    "\n",
    "    * mantenere un frammento del codice dedicato all'installazione dei pacchetti e librerie necessarie\n",
    "\n",
    "        *versioni usate\n",
    "\n",
    "        *scaricare le versioni originali di quelle usate\n",
    "\n",
    "Il codice deve essere commentare\n",
    "\n",
    "    * riga per riga\n",
    "\n",
    "    *indicare le motivazione e scelte\n",
    "\n",
    "Progettere le fasi per raggiungere il risultato -> facilità la riproducilità del codice\n",
    "\n",
    "Documentazione del flusso del lavoro\n",
    "\n",
    "    *documentazione del prodotto -> funzionalità nell'interfaccia utente\n",
    "\n",
    "    *documentazione metodologica -> sugli algoritmi usati\n"
   ]
  }
 ],
 "metadata": {
  "language_info": {
   "name": "python"
  },
  "orig_nbformat": 4
 },
 "nbformat": 4,
 "nbformat_minor": 2
}
