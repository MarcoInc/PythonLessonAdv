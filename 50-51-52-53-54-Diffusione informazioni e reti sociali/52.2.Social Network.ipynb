{
 "cells": [
  {
   "attachments": {},
   "cell_type": "markdown",
   "metadata": {},
   "source": [
    "I Social Network sono in grado di acquisire:\n",
    "\n",
    "    *Maggiore VARIETA' di dati\n",
    "\n",
    "    *Maggior VOLUME di dati -> preferenze ideologiche e politiche\n",
    "\n",
    "E' determinante il:\n",
    "\n",
    "    *Tempo trascorso dagli utenti nelle piattaforme\n",
    "\n",
    "    *La quantità di azioni che essi svolgono\n",
    "\n",
    "    *Rezioni che possono esprimere\n",
    "\n",
    "I social network si contraddistinguono per COLLOCAZIONE e CARATTERISTICHE PECULIARI rispetto ad altre fonti di informazione:\n",
    "\n",
    "    1. I social network filtrano continuovamente i contenuti in modo personalizzato\n",
    "    2.Fungono da intermediari per l'accesso dei cittadini all'informazione\n",
    "    3. Consentono l'ingresso nell'ecosistema informativo di fonti estranee al classico circuito di informazione\n",
    "\n",
    "Dibattito sulla diffuzione di forme patologiche quali quelle relative alla polarizzazione -> si vanno a creare delle bolle ideaologiche che portano a fenomeni di DISINFORMAZIONE"
   ]
  },
  {
   "attachments": {},
   "cell_type": "markdown",
   "metadata": {},
   "source": [
    "Si è notato che i Social Network influiscono dei comportamneti reali offline\n",
    "\n",
    "Essi sono capaci di incidere sulla formazione dell'opinione pubblica in rete (esiti elettorali) \n",
    "\n",
    "\n",
    "I social network possono influire sugli stati emotivi <- si crea un contaggio di percezioni positive o negative\n",
    "\n",
    "In presenza di una riduzione delle espressioni positive la gente produce meno post positivi ma più post negativi\n",
    "VICEVERSA\n",
    "In presenza di una riduzione delle espressioni negative la gente produce meno post negativi ma più post positivi\n",
    "\n",
    "Un trattamento osservato su un amico aumentino all'aumentare della forza del leagme con l'utente esposto al messaggio\n",
    "Ergo, i LEGAMI FORTI( tra amici più intimi) sono importati per la diffusione del comportamenti di un voto nel mondo reale (MONDO OFFLINE)"
   ]
  }
 ],
 "metadata": {
  "language_info": {
   "name": "python"
  },
  "orig_nbformat": 4
 },
 "nbformat": 4,
 "nbformat_minor": 2
}
