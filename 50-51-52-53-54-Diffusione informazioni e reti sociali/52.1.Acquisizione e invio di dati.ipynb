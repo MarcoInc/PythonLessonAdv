{
 "cells": [
  {
   "attachments": {},
   "cell_type": "markdown",
   "metadata": {},
   "source": [
    "Le piattaforme acquisicono dati tramite i COOKIES\n",
    "\n",
    "SCAMBIO IMPLICITO -> Al fronte delle info generate degli utenti, il sito web fornisce gratuitamente servizi spesso personalizzati\n",
    "ESEMPIO ->Motori di ricerca e social network\n",
    "\n",
    "    Acquisizione dati <----> tutela del plurarismo dell'informazione\n",
    "\n",
    "FONTI ALGORITMICHE DI INFORMAZIONE -> Personalizzare i processi di generazione e distribuzione dei contenuti (GATEKEEPER -> Luoghi di passaggio)\n",
    "\n",
    "    *Distribuzione dell'informazione su internet:\n",
    "\n",
    "        1.disaggregazione e disintermediazione dell'offerma informativa tradizionale\n",
    "\n",
    "        2. successiva riaggregazione e re-intermediazione da parte delle fonti algoritmiche\n",
    "\n",
    "Gli algorimi quindi determinano le modalità di fruizione l'informazione da parte degli utenti\n",
    "\n",
    "In Italia INTERNET è il secondo mezzo di informazione"
   ]
  },
  {
   "attachments": {},
   "cell_type": "markdown",
   "metadata": {},
   "source": [
    "Gli algoritmi sono potenti strumenti usati per per filtrare le notizie disponibili e di presentarle agli utenti secondo un ordine:\n",
    "\n",
    "CATEGORIE ALGORITMI:\n",
    "\n",
    "    1. Web search -> indicizzazione e presentazione di contenuti aperti\n",
    "\n",
    "    2. Creazione di news feed su social network -> EdgeRank by Facebook\n",
    "\n",
    "    3. Sistemi di raccomandazione -> suggerimeneti di contenuti\n",
    "\n",
    "    4. Controllo di rimozione dei contenuti -> controllo dei post \n",
    "\n",
    "    5. Classificazione automatica di news\n",
    "\n",
    "    "
   ]
  }
 ],
 "metadata": {
  "language_info": {
   "name": "python"
  },
  "orig_nbformat": 4
 },
 "nbformat": 4,
 "nbformat_minor": 2
}
