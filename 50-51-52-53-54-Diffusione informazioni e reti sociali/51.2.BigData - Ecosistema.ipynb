{
 "cells": [
  {
   "attachments": {},
   "cell_type": "markdown",
   "metadata": {},
   "source": [
    "Con l'avvento dei Big Data è cambiato l'approccio al trattamento dei dati\n",
    "\n",
    "Algoritmi potenti scovano:\n",
    "\n",
    "    *correlazioni e regolarità ->legame tra le variabili\n",
    "\n",
    "    *predizioni e azioni da intraprendere\n",
    "\n",
    "\n",
    "L'approccio basato sulle correlazioni tuttavia può presentare anche dei legami che sono del tutto casuali anche se la correlazione appare alta(prossima ad 1) -> esiste magari un terzo fenomeno da analizzare che causa la correlazione (CORRELAZIONE SPURIA)\n",
    "\n",
    "L'attenzione della correlazione spuria diminusce quando si tratta di decisioni di grandi imprese -> possibilità di aumentare i profitti\n",
    "\n",
    "\n",
    "\n"
   ]
  }
 ],
 "metadata": {
  "language_info": {
   "name": "python"
  },
  "orig_nbformat": 4
 },
 "nbformat": 4,
 "nbformat_minor": 2
}
